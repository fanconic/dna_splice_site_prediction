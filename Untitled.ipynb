{
 "cells": [
  {
   "cell_type": "code",
   "execution_count": 1,
   "metadata": {},
   "outputs": [],
   "source": [
    "import torch\n",
    "import numpy as np\n",
    "import pandas as pd\n",
    "import torch.utils.data as data\n",
    "from sklearn.ensemble import RandomForestClassifier\n",
    "\n",
    "from settings import (\n",
    "\tdata_path,\n",
    "\tcelegans_seq\n",
    "\t)\n",
    "from src.data.preprocessing import (\n",
    "\tstring_transform_labels,\n",
    "\tsmote_sampling,\n",
    "\trandom_split\n",
    "\t)\n",
    "\n",
    "import src.data.utils as utils\n",
    "\n",
    "from src.models.models import k_NN\n",
    "\n",
    "from src.data.loader import DataLoader_sk"
   ]
  },
  {
   "cell_type": "code",
   "execution_count": 2,
   "metadata": {},
   "outputs": [],
   "source": [
    "data_obj = DataLoader_sk(data_path+celegans_seq)\n",
    "train_x, test_x, train_y, test_y = random_split(data_obj)"
   ]
  },
  {
   "cell_type": "code",
   "execution_count": 3,
   "metadata": {},
   "outputs": [],
   "source": [
    "train_x, test_x = string_transform_labels(train_x, test_x)"
   ]
  },
  {
   "cell_type": "code",
   "execution_count": 4,
   "metadata": {},
   "outputs": [],
   "source": [
    "train_x, train_y = smote_sampling(train_x, train_y)"
   ]
  },
  {
   "cell_type": "code",
   "execution_count": 5,
   "metadata": {},
   "outputs": [
    {
     "data": {
      "text/plain": [
       "KNeighborsClassifier(n_neighbors=3)"
      ]
     },
     "execution_count": 5,
     "metadata": {},
     "output_type": "execute_result"
    }
   ],
   "source": [
    "k_nn = k_NN()\n",
    "\n",
    "k_nn.clf.fit(train_x, train_y)"
   ]
  },
  {
   "cell_type": "code",
   "execution_count": 6,
   "metadata": {},
   "outputs": [
    {
     "name": "stdout",
     "output_type": "stream",
     "text": [
      "########### Precision : 0.12320916905444126, Recall: 0.9555555555555556, ROC: (array([0.        , 0.77468354, 1.        ]), array([0.        , 0.95555556, 1.        ]), array([ 2,  1, -1])) ###########\n"
     ]
    }
   ],
   "source": [
    "predictions = k_nn.clf.predict(test_x)\n",
    "\n",
    "utils.model_eval(predictions, test_y)"
   ]
  }
 ],
 "metadata": {
  "kernelspec": {
   "display_name": "Python 3",
   "language": "python",
   "name": "python3"
  },
  "language_info": {
   "codemirror_mode": {
    "name": "ipython",
    "version": 3
   },
   "file_extension": ".py",
   "mimetype": "text/x-python",
   "name": "python",
   "nbconvert_exporter": "python",
   "pygments_lexer": "ipython3",
   "version": "3.7.7"
  }
 },
 "nbformat": 4,
 "nbformat_minor": 4
}
